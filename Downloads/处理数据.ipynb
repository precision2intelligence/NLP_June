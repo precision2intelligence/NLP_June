{
 "cells": [
  {
   "cell_type": "code",
   "execution_count": 14,
   "metadata": {},
   "outputs": [],
   "source": [
    "def output(fout, word):\n",
    "    for i, word_and_tag in enumerate(word):\n",
    "        if i == 0:\n",
    "            if len(word) == 1:\n",
    "                fout.write(\"%s %s %s\\n\"%(word_and_tag[0], 'S-WORD', ww[1]))\n",
    "            else:\n",
    "                fout.write(\"%s %s %s\\n\"%(ww[0], 'B-WORD', ww[1]))\n",
    "        elif i == len(word)-1:\n",
    "            fout.write(\"%s %s %s\\n\"%(ww[0], 'E-WORD', ww[1]))\n",
    "        else:\n",
    "            fout.write(\"%s %s %s\\n\"%(ww[0], 'I-WORD', ww[1]))\n",
    "    word.clear()\n",
    "    \n",
    "def process_data(input_path, output_path):\n",
    "    fin = open(input_path, encoding=\"utf-8\")\n",
    "    fout = open(output_path, encoding=\"utf-8\", mode=\"w\")\n",
    "    word = []\n",
    "    for line in fin:\n",
    "        line = line.strip()\n",
    "        if not line:\n",
    "            output(fout, word)\n",
    "            fout.write(\"\\n\")\n",
    "            continue\n",
    "        ss = line.split(\"\\t\")\n",
    "        if ss[0][1] == '0':\n",
    "            output(fout, word)\n",
    "        word.append([ss[0][0], ss[1]])\n",
    "    output(fout, word)\n",
    "process_data(\"data/weiboNER_2nd_conll.dev\", \"dev.tmp\")\n",
    "process_data(\"data/weiboNER_2nd_conll.test\", \"test.tmp\")\n",
    "process_data(\"data/weiboNER_2nd_conll.train\", \"train.tmp\")\n",
    "\n",
    "        "
   ]
  },
  {
   "cell_type": "code",
   "execution_count": null,
   "metadata": {
    "collapsed": true
   },
   "outputs": [],
   "source": []
  }
 ],
 "metadata": {
  "kernelspec": {
   "display_name": "Python 3",
   "language": "python",
   "name": "python3"
  },
  "language_info": {
   "codemirror_mode": {
    "name": "ipython",
    "version": 3
   },
   "file_extension": ".py",
   "mimetype": "text/x-python",
   "name": "python",
   "nbconvert_exporter": "python",
   "pygments_lexer": "ipython3",
   "version": "3.6.4"
  }
 },
 "nbformat": 4,
 "nbformat_minor": 2
}
