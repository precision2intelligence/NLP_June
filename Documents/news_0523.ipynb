{
 "cells": [
  {
   "cell_type": "code",
   "execution_count": 11,
   "metadata": {},
   "outputs": [],
   "source": [
    "import pandas as pd"
   ]
  },
  {
   "cell_type": "code",
   "execution_count": 12,
   "metadata": {},
   "outputs": [
    {
     "data": {
      "text/html": [
       "<div>\n",
       "<style scoped>\n",
       "    .dataframe tbody tr th:only-of-type {\n",
       "        vertical-align: middle;\n",
       "    }\n",
       "\n",
       "    .dataframe tbody tr th {\n",
       "        vertical-align: top;\n",
       "    }\n",
       "\n",
       "    .dataframe thead th {\n",
       "        text-align: right;\n",
       "    }\n",
       "</style>\n",
       "<table border=\"1\" class=\"dataframe\">\n",
       "  <thead>\n",
       "    <tr style=\"text-align: right;\">\n",
       "      <th></th>\n",
       "      <th>0</th>\n",
       "    </tr>\n",
       "  </thead>\n",
       "  <tbody>\n",
       "    <tr>\n",
       "      <th>0</th>\n",
       "      <td>B-ORG B-LOC B-TIME I-TIME O B-ORG O B-ORG O B-...</td>\n",
       "    </tr>\n",
       "    <tr>\n",
       "      <th>1</th>\n",
       "      <td>B-TIME I-TIME O O B-TIME O B-ROLE O B-ROLE I-R...</td>\n",
       "    </tr>\n",
       "    <tr>\n",
       "      <th>2</th>\n",
       "      <td>B-TIME I-TIME O B-ROLE B-PER O O O O O O O O B...</td>\n",
       "    </tr>\n",
       "    <tr>\n",
       "      <th>3</th>\n",
       "      <td>O O O O O O O O B-LOC B-ROLE B-PER O O O O O O O</td>\n",
       "    </tr>\n",
       "    <tr>\n",
       "      <th>4</th>\n",
       "      <td>O O O O O O O O O O O O O O O O B-ROLE O B-LOC...</td>\n",
       "    </tr>\n",
       "  </tbody>\n",
       "</table>\n",
       "</div>"
      ],
      "text/plain": [
       "                                                   0\n",
       "0  B-ORG B-LOC B-TIME I-TIME O B-ORG O B-ORG O B-...\n",
       "1  B-TIME I-TIME O O B-TIME O B-ROLE O B-ROLE I-R...\n",
       "2  B-TIME I-TIME O B-ROLE B-PER O O O O O O O O B...\n",
       "3   O O O O O O O O B-LOC B-ROLE B-PER O O O O O O O\n",
       "4  O O O O O O O O O O O O O O O O B-ROLE O B-LOC..."
      ]
     },
     "execution_count": 12,
     "metadata": {},
     "output_type": "execute_result"
    }
   ],
   "source": [
    "df_config = pd.read_table('./target.txt', header=None)\n",
    "df_config.head()"
   ]
  },
  {
   "cell_type": "code",
   "execution_count": 13,
   "metadata": {},
   "outputs": [
    {
     "data": {
      "text/html": [
       "<div>\n",
       "<style scoped>\n",
       "    .dataframe tbody tr th:only-of-type {\n",
       "        vertical-align: middle;\n",
       "    }\n",
       "\n",
       "    .dataframe tbody tr th {\n",
       "        vertical-align: top;\n",
       "    }\n",
       "\n",
       "    .dataframe thead th {\n",
       "        text-align: right;\n",
       "    }\n",
       "</style>\n",
       "<table border=\"1\" class=\"dataframe\">\n",
       "  <thead>\n",
       "    <tr style=\"text-align: right;\">\n",
       "      <th></th>\n",
       "      <th>0</th>\n",
       "    </tr>\n",
       "  </thead>\n",
       "  <tbody>\n",
       "    <tr>\n",
       "      <th>0</th>\n",
       "      <td>新华社 北京 六月 十日 电 中宣部 、 教育部 、 团中央 和 全国学联 近日 联合 发出...</td>\n",
       "    </tr>\n",
       "    <tr>\n",
       "      <th>1</th>\n",
       "      <td>三年 来 ， 我 先后 给 亲友 的 六个 孩 子 找 过事 ， 有 几个 还是 托 了 两...</td>\n",
       "    </tr>\n",
       "    <tr>\n",
       "      <th>2</th>\n",
       "      <td>去年 春天 ， 职工 何新荣 9 岁 的 孩子 得 了 白血病 ， 家里 负担 不起 啊 ！</td>\n",
       "    </tr>\n",
       "    <tr>\n",
       "      <th>3</th>\n",
       "      <td>在 女子 53 公斤 级 比赛 中 ， 广东 选手 郭惠冰 4 破 成人 世界纪录 ， 令人...</td>\n",
       "    </tr>\n",
       "    <tr>\n",
       "      <th>4</th>\n",
       "      <td>当然 ， 由于 看 问题 的 角度 差异 和 掌握 资料 的 情况 不同 ， 各国 科学家 ...</td>\n",
       "    </tr>\n",
       "  </tbody>\n",
       "</table>\n",
       "</div>"
      ],
      "text/plain": [
       "                                                   0\n",
       "0  新华社 北京 六月 十日 电 中宣部 、 教育部 、 团中央 和 全国学联 近日 联合 发出...\n",
       "1  三年 来 ， 我 先后 给 亲友 的 六个 孩 子 找 过事 ， 有 几个 还是 托 了 两...\n",
       "2     去年 春天 ， 职工 何新荣 9 岁 的 孩子 得 了 白血病 ， 家里 负担 不起 啊 ！\n",
       "3  在 女子 53 公斤 级 比赛 中 ， 广东 选手 郭惠冰 4 破 成人 世界纪录 ， 令人...\n",
       "4  当然 ， 由于 看 问题 的 角度 差异 和 掌握 资料 的 情况 不同 ， 各国 科学家 ..."
      ]
     },
     "execution_count": 13,
     "metadata": {},
     "output_type": "execute_result"
    }
   ],
   "source": [
    "df_words = pd.read_table('./source.txt', header=None)\n",
    "df_words.head()"
   ]
  },
  {
   "cell_type": "code",
   "execution_count": 14,
   "metadata": {},
   "outputs": [],
   "source": [
    "words = []\n",
    "configs = []\n",
    "sentence_ids = []\n",
    "for i, content in df_words.iterrows():\n",
    "    words = words + content[0].split(' ')\n",
    "    configs = configs + df_config[0].iloc[i].split(' ')    \n",
    "    temp = [i] * len(content[0].split(' '))\n",
    "    #sentence_ids = sentence_ids + temp"
   ]
  },
  {
   "cell_type": "code",
   "execution_count": 15,
   "metadata": {},
   "outputs": [
    {
     "data": {
      "text/html": [
       "<div>\n",
       "<style scoped>\n",
       "    .dataframe tbody tr th:only-of-type {\n",
       "        vertical-align: middle;\n",
       "    }\n",
       "\n",
       "    .dataframe tbody tr th {\n",
       "        vertical-align: top;\n",
       "    }\n",
       "\n",
       "    .dataframe thead th {\n",
       "        text-align: right;\n",
       "    }\n",
       "</style>\n",
       "<table border=\"1\" class=\"dataframe\">\n",
       "  <thead>\n",
       "    <tr style=\"text-align: right;\">\n",
       "      <th></th>\n",
       "      <th>words</th>\n",
       "      <th>configs</th>\n",
       "    </tr>\n",
       "  </thead>\n",
       "  <tbody>\n",
       "    <tr>\n",
       "      <th>0</th>\n",
       "      <td>新华社</td>\n",
       "      <td>B-ORG</td>\n",
       "    </tr>\n",
       "    <tr>\n",
       "      <th>1</th>\n",
       "      <td>北京</td>\n",
       "      <td>B-LOC</td>\n",
       "    </tr>\n",
       "    <tr>\n",
       "      <th>2</th>\n",
       "      <td>六月</td>\n",
       "      <td>B-TIME</td>\n",
       "    </tr>\n",
       "    <tr>\n",
       "      <th>3</th>\n",
       "      <td>十日</td>\n",
       "      <td>I-TIME</td>\n",
       "    </tr>\n",
       "    <tr>\n",
       "      <th>4</th>\n",
       "      <td>电</td>\n",
       "      <td>O</td>\n",
       "    </tr>\n",
       "  </tbody>\n",
       "</table>\n",
       "</div>"
      ],
      "text/plain": [
       "  words configs\n",
       "0   新华社   B-ORG\n",
       "1    北京   B-LOC\n",
       "2    六月  B-TIME\n",
       "3    十日  I-TIME\n",
       "4     电       O"
      ]
     },
     "execution_count": 15,
     "metadata": {},
     "output_type": "execute_result"
    }
   ],
   "source": [
    "result_df = pd.DataFrame({'words': words, 'configs':configs}, \n",
    "                         columns=['words', 'configs'])\n",
    "result_df.to_csv('total2.txt',header=None,index=None,sep=' ')\n",
    "result_df.head()"
   ]
  },
  {
   "cell_type": "code",
   "execution_count": 23,
   "metadata": {},
   "outputs": [],
   "source": [
    "#没有考虑句子的时候\n",
    "# from sklearn.cross_validation import train_test_split\n",
    "# import pandas as pd\n",
    "# #dat为数据集,含有feature和label.\n",
    "# df=pd.read_table('./total2.txt')\n",
    "# df= pd.DataFrame({'words': words, 'configs':configs},columns=['words', 'configs'])\n",
    "# train_splt,test_splt = train_test_split(df, test_size = 0.1)\n",
    "# train_splt.to_csv('train_splt',header=None,index=None,sep=' ')\n",
    "# test_splt.to_csv('test_splt',header=None,index=None,sep=' ')"
   ]
  },
  {
   "cell_type": "code",
   "execution_count": 16,
   "metadata": {},
   "outputs": [],
   "source": [
    "#考虑句子\n",
    "df=pd.read_table('./total2.txt')\n",
    "df= pd.DataFrame({'words': words, 'configs':configs},columns=['words', 'configs'])\n",
    "df_train=df.iloc[0:100001]\n",
    "df_test=df.iloc[100001:]\n",
    "# df_train = df_train.pd.DataFrame({'words': words, 'configs':configs}, \n",
    "#                          columns=['words', 'configs'])\n",
    "# df_test = pd.DataFrame({'words': words, 'configs':configs}, \n",
    "#                          columns=['words', 'configs'])\n",
    "df_train.to_csv('train.txt',header=None,index=None,sep=' ')\n",
    "df_test.to_csv('test.txt',header=None,index=None,sep=' ')"
   ]
  },
  {
   "cell_type": "code",
   "execution_count": 24,
   "metadata": {},
   "outputs": [],
   "source": [
    "# df=pd.read_table('./total2.txt')\n",
    "# df_train=df.iloc[0:100000]\n",
    "# df_train = pd.DataFrame({'words': words, 'configs':configs}, \n",
    "#                          columns=['words', 'configs'])\n",
    "# df_train.to_csv('train.txt',header=None,index=None,sep=' ')\n",
    "# df_test=df.iloc[800:]\n",
    "# df_test = pd.DataFrame({'words': words, 'configs':configs}, \n",
    "#                          columns=['words', 'configs'])\n",
    "# df_test.to_csv('test.txt',header=None,index=None,sep=' ')\n",
    "\n",
    "# df_test\n"
   ]
  },
  {
   "cell_type": "code",
   "execution_count": 8,
   "metadata": {},
   "outputs": [],
   "source": [
    "def compute_f1(data_path):\n",
    "    df = pd.read_table(data_path, header=None, sep='\\t', \n",
    "                     names=['word','event_tag', 'predict_tag'], encoding='utf-8')\n",
    "\n",
    "    tp = 0\n",
    "    tn = 0\n",
    "    fp = 0\n",
    "    fn = 0\n",
    "    for index, content in df.iterrows():\n",
    "        if content['event_tag'] == u'O':\n",
    "            if content['predict_tag'] == u'O':\n",
    "                tn += 1\n",
    "            else:\n",
    "                fp += 1\n",
    "        else:\n",
    "            if content['event_tag'] == content['predict_tag']:\n",
    "                tp += 1\n",
    "            else:\n",
    "                fn += 1\n",
    "\n",
    "    print('tp:{}, fn:{}, tn:{}, fp:{}'.format(tp, fn, tn, fp))\n",
    "\n",
    "    precision = tp / (tp + fp)\n",
    "    recall = tp / (tp + fn)\n",
    "\n",
    "    f1_score = 2 * precision * recall / (precision + recall)\n",
    "    print(df.shape)\n",
    "\n",
    "    return f1_score, precision, recall"
   ]
  },
  {
   "cell_type": "code",
   "execution_count": 9,
   "metadata": {},
   "outputs": [
    {
     "name": "stdout",
     "output_type": "stream",
     "text": [
      "tp:1393, fn:4608, tn:11601, fp:624\n",
      "(18226, 3)\n",
      "f1_score:0.34746819655774513, precision:0.6906296479920674, recall:0.23212797867022164\n"
     ]
    }
   ],
   "source": [
    "data_path='./result_new.txt'\n",
    "f1_score, precision, recall = compute_f1(data_path)\n",
    "print('f1_score:{}, precision:{}, recall:{}'.format(f1_score, precision, recall))"
   ]
  }
 ],
 "metadata": {
  "kernelspec": {
   "display_name": "Python 3",
   "language": "python",
   "name": "python3"
  },
  "language_info": {
   "codemirror_mode": {
    "name": "ipython",
    "version": 3
   },
   "file_extension": ".py",
   "mimetype": "text/x-python",
   "name": "python",
   "nbconvert_exporter": "python",
   "pygments_lexer": "ipython3",
   "version": "3.5.2"
  }
 },
 "nbformat": 4,
 "nbformat_minor": 2
}
